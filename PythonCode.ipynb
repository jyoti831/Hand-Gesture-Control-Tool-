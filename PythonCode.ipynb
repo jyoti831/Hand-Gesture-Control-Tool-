{
 "cells": [
  {
   "cell_type": "code",
   "execution_count": 16,
   "id": "65462c9a",
   "metadata": {},
   "outputs": [],
   "source": [
    "import pyautogui"
   ]
  },
  {
   "cell_type": "code",
   "execution_count": 17,
   "id": "f8800520",
   "metadata": {},
   "outputs": [],
   "source": [
    "import time "
   ]
  },
  {
   "cell_type": "code",
   "execution_count": 18,
   "id": "c014af5c",
   "metadata": {},
   "outputs": [],
   "source": [
    "import serial "
   ]
  },
  {
   "cell_type": "code",
   "execution_count": 40,
   "id": "37c17873",
   "metadata": {},
   "outputs": [],
   "source": [
    "ArduinoSerial = serial.Serial('com5',9600) #Create Serial port object called arduinoSerialData\n",
    "time.sleep(2) #wait for 2 seconds for the communication to get established"
   ]
  },
  {
   "cell_type": "code",
   "execution_count": null,
   "id": "e1ab8cc0",
   "metadata": {},
   "outputs": [
    {
     "name": "stdout",
     "output_type": "stream",
     "text": [
      "b'Left Locked\\r\\n'\n",
      "b'Vdown\\r\\n'\n",
      "b'Left Locked\\r\\n'\n",
      "b'Vdown\\r\\n'\n",
      "b'Left Locked\\r\\n'\n",
      "b'Vdown\\r\\n'\n",
      "b'Left Locked\\r\\n'\n",
      "b'Vdown\\r\\n'\n",
      "b'Left Locked\\r\\n'\n",
      "b'Vdown\\r\\n'\n",
      "b'Vdown\\r\\n'\n",
      "b'Right Locked\\r\\n'\n",
      "b'Forward\\r\\n'\n",
      "b'Right Locked\\r\\n'\n",
      "b'Forward\\r\\n'\n",
      "b'Right Locked\\r\\n'\n",
      "b'Forward\\r\\n'\n",
      "b'Right Locked\\r\\n'\n",
      "b'Forward\\r\\n'\n",
      "b'Left Locked\\r\\n'\n",
      "b'Vup\\r\\n'\n",
      "b'Vup\\r\\n'\n",
      "b'Vup\\r\\n'\n",
      "b'Vup\\r\\n'\n",
      "b'Vup\\r\\n'\n",
      "b'Vup\\r\\n'\n",
      "b'Vup\\r\\n'\n",
      "b'Vup\\r\\n'\n",
      "b'Vup\\r\\n'\n",
      "b'Vup\\r\\n'\n",
      "b'Vup\\r\\n'\n",
      "b'Vup\\r\\n'\n",
      "b'Vup\\r\\n'\n",
      "b'Vup\\r\\n'\n",
      "b'Vup\\r\\n'\n",
      "b'Vup\\r\\n'\n",
      "b'Vup\\r\\n'\n",
      "b'Vup\\r\\n'\n",
      "b'Vdown\\r\\n'\n",
      "b'Left Locked\\r\\n'\n",
      "b'Vdown\\r\\n'\n",
      "b'Left Locked\\r\\n'\n",
      "b'Vdown\\r\\n'\n",
      "b'Left Locked\\r\\n'\n",
      "b'Vdown\\r\\n'\n",
      "b'Left Locked\\r\\n'\n",
      "b'Vup\\r\\n'\n",
      "b'Vup\\r\\n'\n",
      "b'Vup\\r\\n'\n",
      "b'Vup\\r\\n'\n",
      "b'Vup\\r\\n'\n",
      "b'Vup\\r\\n'\n",
      "b'Vup\\r\\n'\n",
      "b'Vup\\r\\n'\n",
      "b'Vup\\r\\n'\n",
      "b'Vup\\r\\n'\n",
      "b'Vup\\r\\n'\n",
      "b'Vup\\r\\n'\n",
      "b'Vup\\r\\n'\n",
      "b'Vup\\r\\n'\n",
      "b'Vup\\r\\n'\n",
      "b'Vup\\r\\n'\n",
      "b'Vup\\r\\n'\n",
      "b'Vup\\r\\n'\n",
      "b'Vup\\r\\n'\n",
      "b'Vup\\r\\n'\n",
      "b'Vup\\r\\n'\n",
      "b'Vdown\\r\\n'\n",
      "b'Left Locked\\r\\n'\n",
      "b'Vdown\\r\\n'\n",
      "b'Left Locked\\r\\n'\n",
      "b'Vdown\\r\\n'\n",
      "b'Left Locked\\r\\n'\n",
      "b'Vdown\\r\\n'\n",
      "b'Left Locked\\r\\n'\n",
      "b'Vdown\\r\\n'\n",
      "b'Left Locked\\r\\n'\n",
      "b'Vdown\\r\\n'\n",
      "b'Vdown\\r\\n'\n",
      "b'Left Locked\\r\\n'\n",
      "b'Vup\\r\\n'\n",
      "b'Vup\\r\\n'\n",
      "b'Vup\\r\\n'\n",
      "b'Vup\\r\\n'\n",
      "b'Vup\\r\\n'\n",
      "b'Vdown\\r\\n'\n",
      "b'Vdown\\r\\n'\n",
      "b'Left Locked\\r\\n'\n",
      "b'Vdown\\r\\n'\n"
     ]
    }
   ],
   "source": [
    "while 1:\n",
    "    incoming = str (ArduinoSerial.readline()) #read the serial data and print it as line \n",
    "    print (incoming)\n",
    "    \n",
    "    if 'Play/Pause' in incoming:\n",
    "        pyautogui.typewrite(['space'], 0.2)\n",
    "\n",
    "    if 'Rewind' in incoming:\n",
    "        pyautogui.hotkey('ctrl', 'left')  \n",
    "\n",
    "    if 'Forward' in incoming:\n",
    "        pyautogui.hotkey('ctrl', 'right') \n",
    "\n",
    "    if 'Vup' in incoming:\n",
    "        pyautogui.hotkey('ctrl', 'down')\n",
    "        \n",
    "\n",
    "    if 'Vdown' in incoming:\n",
    "        pyautogui.hotkey('ctrl', 'up')\n",
    "\n",
    "    incoming = \"\";\n",
    "    \n",
    " "
   ]
  },
  {
   "cell_type": "code",
   "execution_count": null,
   "id": "d6d46ddd",
   "metadata": {},
   "outputs": [],
   "source": []
  },
  {
   "cell_type": "code",
   "execution_count": null,
   "id": "a26931d3",
   "metadata": {},
   "outputs": [],
   "source": []
  },
  {
   "cell_type": "code",
   "execution_count": null,
   "id": "75dcce15",
   "metadata": {},
   "outputs": [],
   "source": []
  }
 ],
 "metadata": {
  "kernelspec": {
   "display_name": "Python 3",
   "language": "python",
   "name": "python3"
  },
  "language_info": {
   "codemirror_mode": {
    "name": "ipython",
    "version": 3
   },
   "file_extension": ".py",
   "mimetype": "text/x-python",
   "name": "python",
   "nbconvert_exporter": "python",
   "pygments_lexer": "ipython3",
   "version": "3.8.8"
  }
 },
 "nbformat": 4,
 "nbformat_minor": 5
}
